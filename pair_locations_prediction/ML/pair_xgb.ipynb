{
  "cells": [
    {
      "cell_type": "markdown",
      "metadata": {
        "id": "8UTIGpTZZlOO"
      },
      "source": [
        "# Imports"
      ]
    },
    {
      "cell_type": "code",
      "execution_count": 4,
      "metadata": {},
      "outputs": [],
      "source": [
        "import matplotlib.pyplot as plt\n",
        "import numpy as np\n",
        "import pandas as pd\n",
        "import xgboost as xgb\n",
        "\n",
        "from sklearn.metrics import mean_absolute_error, mean_squared_error, mean_absolute_percentage_error\n",
        "from itertools import product"
      ]
    },
    {
      "cell_type": "markdown",
      "metadata": {
        "id": "pSSMa3G2wGmF"
      },
      "source": [
        "# Configs"
      ]
    },
    {
      "cell_type": "code",
      "execution_count": 5,
      "metadata": {},
      "outputs": [],
      "source": [
        "INPUT_PATH = 'data/pair_labels.parquet'\n",
        "OUTPUT_PATH = 'results/pairs_xgb_predictions.parquet'\n",
        "\n",
        "RIDGE_TEST_PATH = 'ridge/pairs_ridge_test_predictions.parquet'\n",
        "RIDGE_TRAIN_PATH = 'ridge/pairs_ridge_train_predictions.parquet'\n",
        "\n",
        "START_DATE = '2023-01-01'\n",
        "END_DATE = '2023-04-30'\n",
        "\n",
        "FEATURE_LIST = [\n",
        "                'Ridge_predict',\n",
        "                \n",
        "                'Previous_week_max_demand',\n",
        "                'Previous_2week_max_demand',\n",
        "\n",
        "                'Previous_2week_demand',\n",
        "                'Previous_week_demand', \n",
        "\n",
        "                'Previous_day_demand',\n",
        "                'Previous_2day_demand',\n",
        "                'Previous_3day_demand',\n",
        "                'Previous_4day_demand',\n",
        "                'Previous_5day_demand',\n",
        "                'Previous_6day_demand',\n",
        "                'Previous_8day_demand',\n",
        "                'Previous_9day_demand',\n",
        "                'Previous_10day_demand',\n",
        "                'Previous_11day_demand',\n",
        "                'Previous_12day_demand',\n",
        "                'Previous_13day_demand',\n",
        "\n",
        "                'Day_of_month', \n",
        "                'Day_of_week',\n",
        "                ]\n",
        "\n",
        "VALIDATION_START_DATE = '2023-03-18'\n",
        "TEST_START_DATE = '2023-04-01'\n",
        "\n",
        "AUTO_TUNE = False"
      ]
    },
    {
      "cell_type": "markdown",
      "metadata": {
        "id": "5eS5BQE9wGmK"
      },
      "source": [
        "# Data preparation\n"
      ]
    },
    {
      "cell_type": "markdown",
      "metadata": {
        "id": "TWsjXbpaznc_"
      },
      "source": [
        "## Load Data"
      ]
    },
    {
      "cell_type": "code",
      "execution_count": 6,
      "metadata": {},
      "outputs": [],
      "source": [
        "labeled_df = pd.read_parquet(INPUT_PATH)"
      ]
    },
    {
      "cell_type": "code",
      "execution_count": 7,
      "metadata": {},
      "outputs": [
        {
          "name": "stdout",
          "output_type": "stream",
          "text": [
            "labeled dataframe shape : (173160, 4)\n"
          ]
        },
        {
          "data": {
            "text/html": [
              "<div>\n",
              "<style scoped>\n",
              "    .dataframe tbody tr th:only-of-type {\n",
              "        vertical-align: middle;\n",
              "    }\n",
              "\n",
              "    .dataframe tbody tr th {\n",
              "        vertical-align: top;\n",
              "    }\n",
              "\n",
              "    .dataframe thead th {\n",
              "        text-align: right;\n",
              "    }\n",
              "</style>\n",
              "<table border=\"1\" class=\"dataframe\">\n",
              "  <thead>\n",
              "    <tr style=\"text-align: right;\">\n",
              "      <th></th>\n",
              "      <th>PULocation</th>\n",
              "      <th>Date</th>\n",
              "      <th>DOLocation</th>\n",
              "      <th>Demand</th>\n",
              "    </tr>\n",
              "  </thead>\n",
              "  <tbody>\n",
              "    <tr>\n",
              "      <th>0</th>\n",
              "      <td>13</td>\n",
              "      <td>2023-01-01</td>\n",
              "      <td>68</td>\n",
              "      <td>20.0</td>\n",
              "    </tr>\n",
              "    <tr>\n",
              "      <th>1</th>\n",
              "      <td>13</td>\n",
              "      <td>2023-01-02</td>\n",
              "      <td>68</td>\n",
              "      <td>19.0</td>\n",
              "    </tr>\n",
              "    <tr>\n",
              "      <th>2</th>\n",
              "      <td>13</td>\n",
              "      <td>2023-01-03</td>\n",
              "      <td>68</td>\n",
              "      <td>16.0</td>\n",
              "    </tr>\n",
              "    <tr>\n",
              "      <th>3</th>\n",
              "      <td>13</td>\n",
              "      <td>2023-01-04</td>\n",
              "      <td>68</td>\n",
              "      <td>22.0</td>\n",
              "    </tr>\n",
              "    <tr>\n",
              "      <th>4</th>\n",
              "      <td>13</td>\n",
              "      <td>2023-01-05</td>\n",
              "      <td>68</td>\n",
              "      <td>31.0</td>\n",
              "    </tr>\n",
              "  </tbody>\n",
              "</table>\n",
              "</div>"
            ],
            "text/plain": [
              "   PULocation       Date  DOLocation  Demand\n",
              "0          13 2023-01-01          68    20.0\n",
              "1          13 2023-01-02          68    19.0\n",
              "2          13 2023-01-03          68    16.0\n",
              "3          13 2023-01-04          68    22.0\n",
              "4          13 2023-01-05          68    31.0"
            ]
          },
          "execution_count": 7,
          "metadata": {},
          "output_type": "execute_result"
        }
      ],
      "source": [
        "print(f'labeled dataframe shape : {labeled_df.shape}')\n",
        "labeled_df.head()"
      ]
    },
    {
      "cell_type": "code",
      "execution_count": 8,
      "metadata": {},
      "outputs": [],
      "source": [
        "ridge_train_df = pd.read_parquet(RIDGE_TRAIN_PATH)\n",
        "ridge_test_df = pd.read_parquet(RIDGE_TEST_PATH)\n",
        "ridge_df = pd.concat([ridge_train_df, ridge_test_df], axis = 0)"
      ]
    },
    {
      "cell_type": "code",
      "execution_count": 9,
      "metadata": {},
      "outputs": [
        {
          "name": "stdout",
          "output_type": "stream",
          "text": [
            "ridge dataframe shape : (152958, 4)\n"
          ]
        },
        {
          "data": {
            "text/html": [
              "<div>\n",
              "<style scoped>\n",
              "    .dataframe tbody tr th:only-of-type {\n",
              "        vertical-align: middle;\n",
              "    }\n",
              "\n",
              "    .dataframe tbody tr th {\n",
              "        vertical-align: top;\n",
              "    }\n",
              "\n",
              "    .dataframe thead th {\n",
              "        text-align: right;\n",
              "    }\n",
              "</style>\n",
              "<table border=\"1\" class=\"dataframe\">\n",
              "  <thead>\n",
              "    <tr style=\"text-align: right;\">\n",
              "      <th></th>\n",
              "      <th>PULocation</th>\n",
              "      <th>Date</th>\n",
              "      <th>DOLocation</th>\n",
              "      <th>Predicted_demand</th>\n",
              "    </tr>\n",
              "  </thead>\n",
              "  <tbody>\n",
              "    <tr>\n",
              "      <th>0</th>\n",
              "      <td>13</td>\n",
              "      <td>2023-01-15</td>\n",
              "      <td>68</td>\n",
              "      <td>21.475281</td>\n",
              "    </tr>\n",
              "    <tr>\n",
              "      <th>1</th>\n",
              "      <td>13</td>\n",
              "      <td>2023-01-16</td>\n",
              "      <td>68</td>\n",
              "      <td>22.627233</td>\n",
              "    </tr>\n",
              "    <tr>\n",
              "      <th>2</th>\n",
              "      <td>13</td>\n",
              "      <td>2023-01-17</td>\n",
              "      <td>68</td>\n",
              "      <td>24.706275</td>\n",
              "    </tr>\n",
              "    <tr>\n",
              "      <th>3</th>\n",
              "      <td>13</td>\n",
              "      <td>2023-01-18</td>\n",
              "      <td>68</td>\n",
              "      <td>28.056815</td>\n",
              "    </tr>\n",
              "    <tr>\n",
              "      <th>4</th>\n",
              "      <td>13</td>\n",
              "      <td>2023-01-19</td>\n",
              "      <td>68</td>\n",
              "      <td>23.941366</td>\n",
              "    </tr>\n",
              "  </tbody>\n",
              "</table>\n",
              "</div>"
            ],
            "text/plain": [
              "   PULocation       Date  DOLocation  Predicted_demand\n",
              "0          13 2023-01-15          68         21.475281\n",
              "1          13 2023-01-16          68         22.627233\n",
              "2          13 2023-01-17          68         24.706275\n",
              "3          13 2023-01-18          68         28.056815\n",
              "4          13 2023-01-19          68         23.941366"
            ]
          },
          "execution_count": 9,
          "metadata": {},
          "output_type": "execute_result"
        }
      ],
      "source": [
        "print(f'ridge dataframe shape : {ridge_df.shape}')\n",
        "ridge_df.head()"
      ]
    },
    {
      "cell_type": "markdown",
      "metadata": {},
      "source": [
        "## Add Feature"
      ]
    },
    {
      "cell_type": "code",
      "execution_count": 10,
      "metadata": {},
      "outputs": [],
      "source": [
        "def feature_engineering(dataset):\n",
        "    dataset['Previous_day_demand'] = dataset.groupby(['PULocation', 'DOLocation'])['Demand'].shift(1)\n",
        "    dataset['Previous_2day_demand'] = dataset.groupby(['PULocation', 'DOLocation'])['Demand'].shift(2)\n",
        "    dataset['Previous_3day_demand'] = dataset.groupby(['PULocation', 'DOLocation'])['Demand'].shift(3)\n",
        "    dataset['Previous_4day_demand'] = dataset.groupby(['PULocation', 'DOLocation'])['Demand'].shift(4)\n",
        "    dataset['Previous_5day_demand'] = dataset.groupby(['PULocation', 'DOLocation'])['Demand'].shift(5)\n",
        "    dataset['Previous_6day_demand'] = dataset.groupby(['PULocation', 'DOLocation'])['Demand'].shift(6)\n",
        "    dataset['Previous_week_demand'] = dataset.groupby(['PULocation', 'DOLocation'])['Demand'].shift(7)\n",
        "    dataset['Previous_8day_demand'] = dataset.groupby(['PULocation', 'DOLocation'])['Demand'].shift(8)\n",
        "    dataset['Previous_9day_demand'] = dataset.groupby(['PULocation', 'DOLocation'])['Demand'].shift(9)\n",
        "    dataset['Previous_10day_demand'] = dataset.groupby(['PULocation', 'DOLocation'])['Demand'].shift(10)\n",
        "    dataset['Previous_11day_demand'] = dataset.groupby(['PULocation', 'DOLocation'])['Demand'].shift(11)\n",
        "    dataset['Previous_12day_demand'] = dataset.groupby(['PULocation', 'DOLocation'])['Demand'].shift(12)\n",
        "    dataset['Previous_13day_demand'] = dataset.groupby(['PULocation', 'DOLocation'])['Demand'].shift(13)\n",
        "    dataset['Previous_2week_demand'] = dataset.groupby(['PULocation', 'DOLocation'])['Demand'].shift(14)\n",
        "\n",
        "    dataset['Previous_week_max_demand'] = dataset.groupby(['PULocation', 'DOLocation'])['Demand'].rolling(window=7).max().reset_index(drop = True)\n",
        "    dataset['Previous_2week_max_demand'] = dataset.groupby(['PULocation', 'DOLocation'])['Demand'].rolling(window=14).max().reset_index(drop = True)\n",
        "\n",
        "    dataset['Day_of_week'] = dataset['Date'].dt.dayofweek + 1\n",
        "    dataset['Day_of_month'] = dataset['Date'].dt.day\n",
        "    \n",
        "    dataset = (\n",
        "        dataset\n",
        "        .merge(ridge_df, how='left', on=['PULocation', 'Date', 'DOLocation'])\n",
        "        .rename(columns = {'Predicted_demand' : 'Ridge_predict'})\n",
        "        )\n",
        "    \n",
        "    return dataset\n"
      ]
    },
    {
      "cell_type": "code",
      "execution_count": 11,
      "metadata": {},
      "outputs": [],
      "source": [
        "features_df = feature_engineering(labeled_df)\n",
        "features_df.dropna(inplace = True)"
      ]
    },
    {
      "cell_type": "code",
      "execution_count": 12,
      "metadata": {},
      "outputs": [
        {
          "name": "stdout",
          "output_type": "stream",
          "text": [
            "features dataframe shape : (152958, 23)\n"
          ]
        },
        {
          "data": {
            "text/html": [
              "<div>\n",
              "<style scoped>\n",
              "    .dataframe tbody tr th:only-of-type {\n",
              "        vertical-align: middle;\n",
              "    }\n",
              "\n",
              "    .dataframe tbody tr th {\n",
              "        vertical-align: top;\n",
              "    }\n",
              "\n",
              "    .dataframe thead th {\n",
              "        text-align: right;\n",
              "    }\n",
              "</style>\n",
              "<table border=\"1\" class=\"dataframe\">\n",
              "  <thead>\n",
              "    <tr style=\"text-align: right;\">\n",
              "      <th></th>\n",
              "      <th>PULocation</th>\n",
              "      <th>Date</th>\n",
              "      <th>DOLocation</th>\n",
              "      <th>Demand</th>\n",
              "      <th>Previous_day_demand</th>\n",
              "      <th>Previous_2day_demand</th>\n",
              "      <th>Previous_3day_demand</th>\n",
              "      <th>Previous_4day_demand</th>\n",
              "      <th>Previous_5day_demand</th>\n",
              "      <th>Previous_6day_demand</th>\n",
              "      <th>...</th>\n",
              "      <th>Previous_10day_demand</th>\n",
              "      <th>Previous_11day_demand</th>\n",
              "      <th>Previous_12day_demand</th>\n",
              "      <th>Previous_13day_demand</th>\n",
              "      <th>Previous_2week_demand</th>\n",
              "      <th>Previous_week_max_demand</th>\n",
              "      <th>Previous_2week_max_demand</th>\n",
              "      <th>Day_of_week</th>\n",
              "      <th>Day_of_month</th>\n",
              "      <th>Ridge_predict</th>\n",
              "    </tr>\n",
              "  </thead>\n",
              "  <tbody>\n",
              "    <tr>\n",
              "      <th>14</th>\n",
              "      <td>13</td>\n",
              "      <td>2023-01-15</td>\n",
              "      <td>68</td>\n",
              "      <td>17.0</td>\n",
              "      <td>32.0</td>\n",
              "      <td>31.0</td>\n",
              "      <td>24.0</td>\n",
              "      <td>42.0</td>\n",
              "      <td>30.0</td>\n",
              "      <td>22.0</td>\n",
              "      <td>...</td>\n",
              "      <td>31.0</td>\n",
              "      <td>22.0</td>\n",
              "      <td>16.0</td>\n",
              "      <td>19.0</td>\n",
              "      <td>20.0</td>\n",
              "      <td>42.0</td>\n",
              "      <td>42.0</td>\n",
              "      <td>7</td>\n",
              "      <td>15</td>\n",
              "      <td>21.475281</td>\n",
              "    </tr>\n",
              "    <tr>\n",
              "      <th>15</th>\n",
              "      <td>13</td>\n",
              "      <td>2023-01-16</td>\n",
              "      <td>68</td>\n",
              "      <td>13.0</td>\n",
              "      <td>17.0</td>\n",
              "      <td>32.0</td>\n",
              "      <td>31.0</td>\n",
              "      <td>24.0</td>\n",
              "      <td>42.0</td>\n",
              "      <td>30.0</td>\n",
              "      <td>...</td>\n",
              "      <td>18.0</td>\n",
              "      <td>31.0</td>\n",
              "      <td>22.0</td>\n",
              "      <td>16.0</td>\n",
              "      <td>19.0</td>\n",
              "      <td>42.0</td>\n",
              "      <td>42.0</td>\n",
              "      <td>1</td>\n",
              "      <td>16</td>\n",
              "      <td>22.627233</td>\n",
              "    </tr>\n",
              "    <tr>\n",
              "      <th>16</th>\n",
              "      <td>13</td>\n",
              "      <td>2023-01-17</td>\n",
              "      <td>68</td>\n",
              "      <td>23.0</td>\n",
              "      <td>13.0</td>\n",
              "      <td>17.0</td>\n",
              "      <td>32.0</td>\n",
              "      <td>31.0</td>\n",
              "      <td>24.0</td>\n",
              "      <td>42.0</td>\n",
              "      <td>...</td>\n",
              "      <td>15.0</td>\n",
              "      <td>18.0</td>\n",
              "      <td>31.0</td>\n",
              "      <td>22.0</td>\n",
              "      <td>16.0</td>\n",
              "      <td>42.0</td>\n",
              "      <td>42.0</td>\n",
              "      <td>2</td>\n",
              "      <td>17</td>\n",
              "      <td>24.706275</td>\n",
              "    </tr>\n",
              "    <tr>\n",
              "      <th>17</th>\n",
              "      <td>13</td>\n",
              "      <td>2023-01-18</td>\n",
              "      <td>68</td>\n",
              "      <td>25.0</td>\n",
              "      <td>23.0</td>\n",
              "      <td>13.0</td>\n",
              "      <td>17.0</td>\n",
              "      <td>32.0</td>\n",
              "      <td>31.0</td>\n",
              "      <td>24.0</td>\n",
              "      <td>...</td>\n",
              "      <td>10.0</td>\n",
              "      <td>15.0</td>\n",
              "      <td>18.0</td>\n",
              "      <td>31.0</td>\n",
              "      <td>22.0</td>\n",
              "      <td>32.0</td>\n",
              "      <td>42.0</td>\n",
              "      <td>3</td>\n",
              "      <td>18</td>\n",
              "      <td>28.056815</td>\n",
              "    </tr>\n",
              "    <tr>\n",
              "      <th>18</th>\n",
              "      <td>13</td>\n",
              "      <td>2023-01-19</td>\n",
              "      <td>68</td>\n",
              "      <td>22.0</td>\n",
              "      <td>25.0</td>\n",
              "      <td>23.0</td>\n",
              "      <td>13.0</td>\n",
              "      <td>17.0</td>\n",
              "      <td>32.0</td>\n",
              "      <td>31.0</td>\n",
              "      <td>...</td>\n",
              "      <td>22.0</td>\n",
              "      <td>10.0</td>\n",
              "      <td>15.0</td>\n",
              "      <td>18.0</td>\n",
              "      <td>31.0</td>\n",
              "      <td>32.0</td>\n",
              "      <td>42.0</td>\n",
              "      <td>4</td>\n",
              "      <td>19</td>\n",
              "      <td>23.941366</td>\n",
              "    </tr>\n",
              "  </tbody>\n",
              "</table>\n",
              "<p>5 rows × 23 columns</p>\n",
              "</div>"
            ],
            "text/plain": [
              "    PULocation       Date  DOLocation  Demand  Previous_day_demand  \\\n",
              "14          13 2023-01-15          68    17.0                 32.0   \n",
              "15          13 2023-01-16          68    13.0                 17.0   \n",
              "16          13 2023-01-17          68    23.0                 13.0   \n",
              "17          13 2023-01-18          68    25.0                 23.0   \n",
              "18          13 2023-01-19          68    22.0                 25.0   \n",
              "\n",
              "    Previous_2day_demand  Previous_3day_demand  Previous_4day_demand  \\\n",
              "14                  31.0                  24.0                  42.0   \n",
              "15                  32.0                  31.0                  24.0   \n",
              "16                  17.0                  32.0                  31.0   \n",
              "17                  13.0                  17.0                  32.0   \n",
              "18                  23.0                  13.0                  17.0   \n",
              "\n",
              "    Previous_5day_demand  Previous_6day_demand  ...  Previous_10day_demand  \\\n",
              "14                  30.0                  22.0  ...                   31.0   \n",
              "15                  42.0                  30.0  ...                   18.0   \n",
              "16                  24.0                  42.0  ...                   15.0   \n",
              "17                  31.0                  24.0  ...                   10.0   \n",
              "18                  32.0                  31.0  ...                   22.0   \n",
              "\n",
              "    Previous_11day_demand  Previous_12day_demand  Previous_13day_demand  \\\n",
              "14                   22.0                   16.0                   19.0   \n",
              "15                   31.0                   22.0                   16.0   \n",
              "16                   18.0                   31.0                   22.0   \n",
              "17                   15.0                   18.0                   31.0   \n",
              "18                   10.0                   15.0                   18.0   \n",
              "\n",
              "    Previous_2week_demand  Previous_week_max_demand  \\\n",
              "14                   20.0                      42.0   \n",
              "15                   19.0                      42.0   \n",
              "16                   16.0                      42.0   \n",
              "17                   22.0                      32.0   \n",
              "18                   31.0                      32.0   \n",
              "\n",
              "    Previous_2week_max_demand  Day_of_week  Day_of_month  Ridge_predict  \n",
              "14                       42.0            7            15      21.475281  \n",
              "15                       42.0            1            16      22.627233  \n",
              "16                       42.0            2            17      24.706275  \n",
              "17                       42.0            3            18      28.056815  \n",
              "18                       42.0            4            19      23.941366  \n",
              "\n",
              "[5 rows x 23 columns]"
            ]
          },
          "execution_count": 12,
          "metadata": {},
          "output_type": "execute_result"
        }
      ],
      "source": [
        "print(f'features dataframe shape : {features_df.shape}')\n",
        "features_df.head()"
      ]
    },
    {
      "cell_type": "code",
      "execution_count": 13,
      "metadata": {},
      "outputs": [
        {
          "data": {
            "text/html": [
              "<div>\n",
              "<style scoped>\n",
              "    .dataframe tbody tr th:only-of-type {\n",
              "        vertical-align: middle;\n",
              "    }\n",
              "\n",
              "    .dataframe tbody tr th {\n",
              "        vertical-align: top;\n",
              "    }\n",
              "\n",
              "    .dataframe thead th {\n",
              "        text-align: right;\n",
              "    }\n",
              "</style>\n",
              "<table border=\"1\" class=\"dataframe\">\n",
              "  <thead>\n",
              "    <tr style=\"text-align: right;\">\n",
              "      <th></th>\n",
              "      <th>PULocation</th>\n",
              "      <th>Date</th>\n",
              "      <th>DOLocation</th>\n",
              "      <th>Demand</th>\n",
              "      <th>Previous_day_demand</th>\n",
              "      <th>Previous_2day_demand</th>\n",
              "      <th>Previous_3day_demand</th>\n",
              "      <th>Previous_4day_demand</th>\n",
              "      <th>Previous_5day_demand</th>\n",
              "      <th>Previous_6day_demand</th>\n",
              "      <th>...</th>\n",
              "      <th>Previous_10day_demand</th>\n",
              "      <th>Previous_11day_demand</th>\n",
              "      <th>Previous_12day_demand</th>\n",
              "      <th>Previous_13day_demand</th>\n",
              "      <th>Previous_2week_demand</th>\n",
              "      <th>Previous_week_max_demand</th>\n",
              "      <th>Previous_2week_max_demand</th>\n",
              "      <th>Day_of_week</th>\n",
              "      <th>Day_of_month</th>\n",
              "      <th>Ridge_predict</th>\n",
              "    </tr>\n",
              "  </thead>\n",
              "  <tbody>\n",
              "  </tbody>\n",
              "</table>\n",
              "<p>0 rows × 23 columns</p>\n",
              "</div>"
            ],
            "text/plain": [
              "Empty DataFrame\n",
              "Columns: [PULocation, Date, DOLocation, Demand, Previous_day_demand, Previous_2day_demand, Previous_3day_demand, Previous_4day_demand, Previous_5day_demand, Previous_6day_demand, Previous_week_demand, Previous_8day_demand, Previous_9day_demand, Previous_10day_demand, Previous_11day_demand, Previous_12day_demand, Previous_13day_demand, Previous_2week_demand, Previous_week_max_demand, Previous_2week_max_demand, Day_of_week, Day_of_month, Ridge_predict]\n",
              "Index: []\n",
              "\n",
              "[0 rows x 23 columns]"
            ]
          },
          "execution_count": 13,
          "metadata": {},
          "output_type": "execute_result"
        }
      ],
      "source": [
        "features_df[features_df['Demand'] == 0]"
      ]
    },
    {
      "cell_type": "markdown",
      "metadata": {
        "id": "zN0kp6jw03DP"
      },
      "source": [
        "## Split Train and Test Data"
      ]
    },
    {
      "cell_type": "code",
      "execution_count": 14,
      "metadata": {
        "id": "CMY1G1lmwGmI"
      },
      "outputs": [],
      "source": [
        "def train_test_splitting(dataset, TEST_START_DATE):\n",
        "\n",
        "    train_df = dataset[dataset['Date'] < TEST_START_DATE]\n",
        "    test_df = dataset[dataset['Date'] >= TEST_START_DATE]\n",
        "\n",
        "    return train_df, test_df"
      ]
    },
    {
      "cell_type": "code",
      "execution_count": 15,
      "metadata": {
        "id": "3xH4VMGNwGmK"
      },
      "outputs": [],
      "source": [
        "train_df, test_df = train_test_splitting(features_df, TEST_START_DATE)"
      ]
    },
    {
      "cell_type": "code",
      "execution_count": 16,
      "metadata": {},
      "outputs": [],
      "source": [
        "grid_search_train_df, valid_df = train_test_splitting(train_df, VALIDATION_START_DATE) "
      ]
    },
    {
      "cell_type": "code",
      "execution_count": 17,
      "metadata": {
        "id": "xxGdRZfqwGmL"
      },
      "outputs": [
        {
          "name": "stdout",
          "output_type": "stream",
          "text": [
            "train dataframe shape : (109668, 23)\n"
          ]
        },
        {
          "data": {
            "text/html": [
              "<div>\n",
              "<style scoped>\n",
              "    .dataframe tbody tr th:only-of-type {\n",
              "        vertical-align: middle;\n",
              "    }\n",
              "\n",
              "    .dataframe tbody tr th {\n",
              "        vertical-align: top;\n",
              "    }\n",
              "\n",
              "    .dataframe thead th {\n",
              "        text-align: right;\n",
              "    }\n",
              "</style>\n",
              "<table border=\"1\" class=\"dataframe\">\n",
              "  <thead>\n",
              "    <tr style=\"text-align: right;\">\n",
              "      <th></th>\n",
              "      <th>PULocation</th>\n",
              "      <th>Date</th>\n",
              "      <th>DOLocation</th>\n",
              "      <th>Demand</th>\n",
              "      <th>Previous_day_demand</th>\n",
              "      <th>Previous_2day_demand</th>\n",
              "      <th>Previous_3day_demand</th>\n",
              "      <th>Previous_4day_demand</th>\n",
              "      <th>Previous_5day_demand</th>\n",
              "      <th>Previous_6day_demand</th>\n",
              "      <th>...</th>\n",
              "      <th>Previous_10day_demand</th>\n",
              "      <th>Previous_11day_demand</th>\n",
              "      <th>Previous_12day_demand</th>\n",
              "      <th>Previous_13day_demand</th>\n",
              "      <th>Previous_2week_demand</th>\n",
              "      <th>Previous_week_max_demand</th>\n",
              "      <th>Previous_2week_max_demand</th>\n",
              "      <th>Day_of_week</th>\n",
              "      <th>Day_of_month</th>\n",
              "      <th>Ridge_predict</th>\n",
              "    </tr>\n",
              "  </thead>\n",
              "  <tbody>\n",
              "    <tr>\n",
              "      <th>14</th>\n",
              "      <td>13</td>\n",
              "      <td>2023-01-15</td>\n",
              "      <td>68</td>\n",
              "      <td>17.0</td>\n",
              "      <td>32.0</td>\n",
              "      <td>31.0</td>\n",
              "      <td>24.0</td>\n",
              "      <td>42.0</td>\n",
              "      <td>30.0</td>\n",
              "      <td>22.0</td>\n",
              "      <td>...</td>\n",
              "      <td>31.0</td>\n",
              "      <td>22.0</td>\n",
              "      <td>16.0</td>\n",
              "      <td>19.0</td>\n",
              "      <td>20.0</td>\n",
              "      <td>42.0</td>\n",
              "      <td>42.0</td>\n",
              "      <td>7</td>\n",
              "      <td>15</td>\n",
              "      <td>21.475281</td>\n",
              "    </tr>\n",
              "    <tr>\n",
              "      <th>15</th>\n",
              "      <td>13</td>\n",
              "      <td>2023-01-16</td>\n",
              "      <td>68</td>\n",
              "      <td>13.0</td>\n",
              "      <td>17.0</td>\n",
              "      <td>32.0</td>\n",
              "      <td>31.0</td>\n",
              "      <td>24.0</td>\n",
              "      <td>42.0</td>\n",
              "      <td>30.0</td>\n",
              "      <td>...</td>\n",
              "      <td>18.0</td>\n",
              "      <td>31.0</td>\n",
              "      <td>22.0</td>\n",
              "      <td>16.0</td>\n",
              "      <td>19.0</td>\n",
              "      <td>42.0</td>\n",
              "      <td>42.0</td>\n",
              "      <td>1</td>\n",
              "      <td>16</td>\n",
              "      <td>22.627233</td>\n",
              "    </tr>\n",
              "    <tr>\n",
              "      <th>16</th>\n",
              "      <td>13</td>\n",
              "      <td>2023-01-17</td>\n",
              "      <td>68</td>\n",
              "      <td>23.0</td>\n",
              "      <td>13.0</td>\n",
              "      <td>17.0</td>\n",
              "      <td>32.0</td>\n",
              "      <td>31.0</td>\n",
              "      <td>24.0</td>\n",
              "      <td>42.0</td>\n",
              "      <td>...</td>\n",
              "      <td>15.0</td>\n",
              "      <td>18.0</td>\n",
              "      <td>31.0</td>\n",
              "      <td>22.0</td>\n",
              "      <td>16.0</td>\n",
              "      <td>42.0</td>\n",
              "      <td>42.0</td>\n",
              "      <td>2</td>\n",
              "      <td>17</td>\n",
              "      <td>24.706275</td>\n",
              "    </tr>\n",
              "    <tr>\n",
              "      <th>17</th>\n",
              "      <td>13</td>\n",
              "      <td>2023-01-18</td>\n",
              "      <td>68</td>\n",
              "      <td>25.0</td>\n",
              "      <td>23.0</td>\n",
              "      <td>13.0</td>\n",
              "      <td>17.0</td>\n",
              "      <td>32.0</td>\n",
              "      <td>31.0</td>\n",
              "      <td>24.0</td>\n",
              "      <td>...</td>\n",
              "      <td>10.0</td>\n",
              "      <td>15.0</td>\n",
              "      <td>18.0</td>\n",
              "      <td>31.0</td>\n",
              "      <td>22.0</td>\n",
              "      <td>32.0</td>\n",
              "      <td>42.0</td>\n",
              "      <td>3</td>\n",
              "      <td>18</td>\n",
              "      <td>28.056815</td>\n",
              "    </tr>\n",
              "    <tr>\n",
              "      <th>18</th>\n",
              "      <td>13</td>\n",
              "      <td>2023-01-19</td>\n",
              "      <td>68</td>\n",
              "      <td>22.0</td>\n",
              "      <td>25.0</td>\n",
              "      <td>23.0</td>\n",
              "      <td>13.0</td>\n",
              "      <td>17.0</td>\n",
              "      <td>32.0</td>\n",
              "      <td>31.0</td>\n",
              "      <td>...</td>\n",
              "      <td>22.0</td>\n",
              "      <td>10.0</td>\n",
              "      <td>15.0</td>\n",
              "      <td>18.0</td>\n",
              "      <td>31.0</td>\n",
              "      <td>32.0</td>\n",
              "      <td>42.0</td>\n",
              "      <td>4</td>\n",
              "      <td>19</td>\n",
              "      <td>23.941366</td>\n",
              "    </tr>\n",
              "  </tbody>\n",
              "</table>\n",
              "<p>5 rows × 23 columns</p>\n",
              "</div>"
            ],
            "text/plain": [
              "    PULocation       Date  DOLocation  Demand  Previous_day_demand  \\\n",
              "14          13 2023-01-15          68    17.0                 32.0   \n",
              "15          13 2023-01-16          68    13.0                 17.0   \n",
              "16          13 2023-01-17          68    23.0                 13.0   \n",
              "17          13 2023-01-18          68    25.0                 23.0   \n",
              "18          13 2023-01-19          68    22.0                 25.0   \n",
              "\n",
              "    Previous_2day_demand  Previous_3day_demand  Previous_4day_demand  \\\n",
              "14                  31.0                  24.0                  42.0   \n",
              "15                  32.0                  31.0                  24.0   \n",
              "16                  17.0                  32.0                  31.0   \n",
              "17                  13.0                  17.0                  32.0   \n",
              "18                  23.0                  13.0                  17.0   \n",
              "\n",
              "    Previous_5day_demand  Previous_6day_demand  ...  Previous_10day_demand  \\\n",
              "14                  30.0                  22.0  ...                   31.0   \n",
              "15                  42.0                  30.0  ...                   18.0   \n",
              "16                  24.0                  42.0  ...                   15.0   \n",
              "17                  31.0                  24.0  ...                   10.0   \n",
              "18                  32.0                  31.0  ...                   22.0   \n",
              "\n",
              "    Previous_11day_demand  Previous_12day_demand  Previous_13day_demand  \\\n",
              "14                   22.0                   16.0                   19.0   \n",
              "15                   31.0                   22.0                   16.0   \n",
              "16                   18.0                   31.0                   22.0   \n",
              "17                   15.0                   18.0                   31.0   \n",
              "18                   10.0                   15.0                   18.0   \n",
              "\n",
              "    Previous_2week_demand  Previous_week_max_demand  \\\n",
              "14                   20.0                      42.0   \n",
              "15                   19.0                      42.0   \n",
              "16                   16.0                      42.0   \n",
              "17                   22.0                      32.0   \n",
              "18                   31.0                      32.0   \n",
              "\n",
              "    Previous_2week_max_demand  Day_of_week  Day_of_month  Ridge_predict  \n",
              "14                       42.0            7            15      21.475281  \n",
              "15                       42.0            1            16      22.627233  \n",
              "16                       42.0            2            17      24.706275  \n",
              "17                       42.0            3            18      28.056815  \n",
              "18                       42.0            4            19      23.941366  \n",
              "\n",
              "[5 rows x 23 columns]"
            ]
          },
          "execution_count": 17,
          "metadata": {},
          "output_type": "execute_result"
        }
      ],
      "source": [
        "print(f'train dataframe shape : {train_df.shape}')\n",
        "train_df.head()"
      ]
    },
    {
      "cell_type": "code",
      "execution_count": 18,
      "metadata": {},
      "outputs": [
        {
          "name": "stdout",
          "output_type": "stream",
          "text": [
            "validation dataframe shape : (20202, 23)\n"
          ]
        },
        {
          "data": {
            "text/html": [
              "<div>\n",
              "<style scoped>\n",
              "    .dataframe tbody tr th:only-of-type {\n",
              "        vertical-align: middle;\n",
              "    }\n",
              "\n",
              "    .dataframe tbody tr th {\n",
              "        vertical-align: top;\n",
              "    }\n",
              "\n",
              "    .dataframe thead th {\n",
              "        text-align: right;\n",
              "    }\n",
              "</style>\n",
              "<table border=\"1\" class=\"dataframe\">\n",
              "  <thead>\n",
              "    <tr style=\"text-align: right;\">\n",
              "      <th></th>\n",
              "      <th>PULocation</th>\n",
              "      <th>Date</th>\n",
              "      <th>DOLocation</th>\n",
              "      <th>Demand</th>\n",
              "      <th>Previous_day_demand</th>\n",
              "      <th>Previous_2day_demand</th>\n",
              "      <th>Previous_3day_demand</th>\n",
              "      <th>Previous_4day_demand</th>\n",
              "      <th>Previous_5day_demand</th>\n",
              "      <th>Previous_6day_demand</th>\n",
              "      <th>...</th>\n",
              "      <th>Previous_10day_demand</th>\n",
              "      <th>Previous_11day_demand</th>\n",
              "      <th>Previous_12day_demand</th>\n",
              "      <th>Previous_13day_demand</th>\n",
              "      <th>Previous_2week_demand</th>\n",
              "      <th>Previous_week_max_demand</th>\n",
              "      <th>Previous_2week_max_demand</th>\n",
              "      <th>Day_of_week</th>\n",
              "      <th>Day_of_month</th>\n",
              "      <th>Ridge_predict</th>\n",
              "    </tr>\n",
              "  </thead>\n",
              "  <tbody>\n",
              "    <tr>\n",
              "      <th>76</th>\n",
              "      <td>13</td>\n",
              "      <td>2023-03-18</td>\n",
              "      <td>68</td>\n",
              "      <td>18.0</td>\n",
              "      <td>25.0</td>\n",
              "      <td>28.0</td>\n",
              "      <td>29.0</td>\n",
              "      <td>24.0</td>\n",
              "      <td>14.0</td>\n",
              "      <td>15.0</td>\n",
              "      <td>...</td>\n",
              "      <td>35.0</td>\n",
              "      <td>19.0</td>\n",
              "      <td>16.0</td>\n",
              "      <td>12.0</td>\n",
              "      <td>19.0</td>\n",
              "      <td>29.0</td>\n",
              "      <td>36.0</td>\n",
              "      <td>6</td>\n",
              "      <td>18</td>\n",
              "      <td>16.237615</td>\n",
              "    </tr>\n",
              "    <tr>\n",
              "      <th>77</th>\n",
              "      <td>13</td>\n",
              "      <td>2023-03-19</td>\n",
              "      <td>68</td>\n",
              "      <td>14.0</td>\n",
              "      <td>18.0</td>\n",
              "      <td>25.0</td>\n",
              "      <td>28.0</td>\n",
              "      <td>29.0</td>\n",
              "      <td>24.0</td>\n",
              "      <td>14.0</td>\n",
              "      <td>...</td>\n",
              "      <td>36.0</td>\n",
              "      <td>35.0</td>\n",
              "      <td>19.0</td>\n",
              "      <td>16.0</td>\n",
              "      <td>12.0</td>\n",
              "      <td>29.0</td>\n",
              "      <td>36.0</td>\n",
              "      <td>7</td>\n",
              "      <td>19</td>\n",
              "      <td>13.258240</td>\n",
              "    </tr>\n",
              "    <tr>\n",
              "      <th>78</th>\n",
              "      <td>13</td>\n",
              "      <td>2023-03-20</td>\n",
              "      <td>68</td>\n",
              "      <td>20.0</td>\n",
              "      <td>14.0</td>\n",
              "      <td>18.0</td>\n",
              "      <td>25.0</td>\n",
              "      <td>28.0</td>\n",
              "      <td>29.0</td>\n",
              "      <td>24.0</td>\n",
              "      <td>...</td>\n",
              "      <td>20.0</td>\n",
              "      <td>36.0</td>\n",
              "      <td>35.0</td>\n",
              "      <td>19.0</td>\n",
              "      <td>16.0</td>\n",
              "      <td>29.0</td>\n",
              "      <td>36.0</td>\n",
              "      <td>1</td>\n",
              "      <td>20</td>\n",
              "      <td>15.023794</td>\n",
              "    </tr>\n",
              "    <tr>\n",
              "      <th>79</th>\n",
              "      <td>13</td>\n",
              "      <td>2023-03-21</td>\n",
              "      <td>68</td>\n",
              "      <td>36.0</td>\n",
              "      <td>20.0</td>\n",
              "      <td>14.0</td>\n",
              "      <td>18.0</td>\n",
              "      <td>25.0</td>\n",
              "      <td>28.0</td>\n",
              "      <td>29.0</td>\n",
              "      <td>...</td>\n",
              "      <td>15.0</td>\n",
              "      <td>20.0</td>\n",
              "      <td>36.0</td>\n",
              "      <td>35.0</td>\n",
              "      <td>19.0</td>\n",
              "      <td>36.0</td>\n",
              "      <td>36.0</td>\n",
              "      <td>2</td>\n",
              "      <td>21</td>\n",
              "      <td>24.283424</td>\n",
              "    </tr>\n",
              "    <tr>\n",
              "      <th>80</th>\n",
              "      <td>13</td>\n",
              "      <td>2023-03-22</td>\n",
              "      <td>68</td>\n",
              "      <td>30.0</td>\n",
              "      <td>36.0</td>\n",
              "      <td>20.0</td>\n",
              "      <td>14.0</td>\n",
              "      <td>18.0</td>\n",
              "      <td>25.0</td>\n",
              "      <td>28.0</td>\n",
              "      <td>...</td>\n",
              "      <td>15.0</td>\n",
              "      <td>15.0</td>\n",
              "      <td>20.0</td>\n",
              "      <td>36.0</td>\n",
              "      <td>35.0</td>\n",
              "      <td>36.0</td>\n",
              "      <td>36.0</td>\n",
              "      <td>3</td>\n",
              "      <td>22</td>\n",
              "      <td>35.046049</td>\n",
              "    </tr>\n",
              "  </tbody>\n",
              "</table>\n",
              "<p>5 rows × 23 columns</p>\n",
              "</div>"
            ],
            "text/plain": [
              "    PULocation       Date  DOLocation  Demand  Previous_day_demand  \\\n",
              "76          13 2023-03-18          68    18.0                 25.0   \n",
              "77          13 2023-03-19          68    14.0                 18.0   \n",
              "78          13 2023-03-20          68    20.0                 14.0   \n",
              "79          13 2023-03-21          68    36.0                 20.0   \n",
              "80          13 2023-03-22          68    30.0                 36.0   \n",
              "\n",
              "    Previous_2day_demand  Previous_3day_demand  Previous_4day_demand  \\\n",
              "76                  28.0                  29.0                  24.0   \n",
              "77                  25.0                  28.0                  29.0   \n",
              "78                  18.0                  25.0                  28.0   \n",
              "79                  14.0                  18.0                  25.0   \n",
              "80                  20.0                  14.0                  18.0   \n",
              "\n",
              "    Previous_5day_demand  Previous_6day_demand  ...  Previous_10day_demand  \\\n",
              "76                  14.0                  15.0  ...                   35.0   \n",
              "77                  24.0                  14.0  ...                   36.0   \n",
              "78                  29.0                  24.0  ...                   20.0   \n",
              "79                  28.0                  29.0  ...                   15.0   \n",
              "80                  25.0                  28.0  ...                   15.0   \n",
              "\n",
              "    Previous_11day_demand  Previous_12day_demand  Previous_13day_demand  \\\n",
              "76                   19.0                   16.0                   12.0   \n",
              "77                   35.0                   19.0                   16.0   \n",
              "78                   36.0                   35.0                   19.0   \n",
              "79                   20.0                   36.0                   35.0   \n",
              "80                   15.0                   20.0                   36.0   \n",
              "\n",
              "    Previous_2week_demand  Previous_week_max_demand  \\\n",
              "76                   19.0                      29.0   \n",
              "77                   12.0                      29.0   \n",
              "78                   16.0                      29.0   \n",
              "79                   19.0                      36.0   \n",
              "80                   35.0                      36.0   \n",
              "\n",
              "    Previous_2week_max_demand  Day_of_week  Day_of_month  Ridge_predict  \n",
              "76                       36.0            6            18      16.237615  \n",
              "77                       36.0            7            19      13.258240  \n",
              "78                       36.0            1            20      15.023794  \n",
              "79                       36.0            2            21      24.283424  \n",
              "80                       36.0            3            22      35.046049  \n",
              "\n",
              "[5 rows x 23 columns]"
            ]
          },
          "execution_count": 18,
          "metadata": {},
          "output_type": "execute_result"
        }
      ],
      "source": [
        "print(f'validation dataframe shape : {valid_df.shape}')\n",
        "valid_df.head()"
      ]
    },
    {
      "cell_type": "code",
      "execution_count": 19,
      "metadata": {
        "id": "uPbINwH224Hy"
      },
      "outputs": [
        {
          "name": "stdout",
          "output_type": "stream",
          "text": [
            "test dataframe shape : (43290, 23)\n"
          ]
        },
        {
          "data": {
            "text/html": [
              "<div>\n",
              "<style scoped>\n",
              "    .dataframe tbody tr th:only-of-type {\n",
              "        vertical-align: middle;\n",
              "    }\n",
              "\n",
              "    .dataframe tbody tr th {\n",
              "        vertical-align: top;\n",
              "    }\n",
              "\n",
              "    .dataframe thead th {\n",
              "        text-align: right;\n",
              "    }\n",
              "</style>\n",
              "<table border=\"1\" class=\"dataframe\">\n",
              "  <thead>\n",
              "    <tr style=\"text-align: right;\">\n",
              "      <th></th>\n",
              "      <th>PULocation</th>\n",
              "      <th>Date</th>\n",
              "      <th>DOLocation</th>\n",
              "      <th>Demand</th>\n",
              "      <th>Previous_day_demand</th>\n",
              "      <th>Previous_2day_demand</th>\n",
              "      <th>Previous_3day_demand</th>\n",
              "      <th>Previous_4day_demand</th>\n",
              "      <th>Previous_5day_demand</th>\n",
              "      <th>Previous_6day_demand</th>\n",
              "      <th>...</th>\n",
              "      <th>Previous_10day_demand</th>\n",
              "      <th>Previous_11day_demand</th>\n",
              "      <th>Previous_12day_demand</th>\n",
              "      <th>Previous_13day_demand</th>\n",
              "      <th>Previous_2week_demand</th>\n",
              "      <th>Previous_week_max_demand</th>\n",
              "      <th>Previous_2week_max_demand</th>\n",
              "      <th>Day_of_week</th>\n",
              "      <th>Day_of_month</th>\n",
              "      <th>Ridge_predict</th>\n",
              "    </tr>\n",
              "  </thead>\n",
              "  <tbody>\n",
              "    <tr>\n",
              "      <th>90</th>\n",
              "      <td>13</td>\n",
              "      <td>2023-04-01</td>\n",
              "      <td>68</td>\n",
              "      <td>18.0</td>\n",
              "      <td>35.0</td>\n",
              "      <td>28.0</td>\n",
              "      <td>37.0</td>\n",
              "      <td>32.0</td>\n",
              "      <td>21.0</td>\n",
              "      <td>21.0</td>\n",
              "      <td>...</td>\n",
              "      <td>30.0</td>\n",
              "      <td>36.0</td>\n",
              "      <td>20.0</td>\n",
              "      <td>14.0</td>\n",
              "      <td>18.0</td>\n",
              "      <td>37.0</td>\n",
              "      <td>37.0</td>\n",
              "      <td>6</td>\n",
              "      <td>1</td>\n",
              "      <td>22.153462</td>\n",
              "    </tr>\n",
              "    <tr>\n",
              "      <th>91</th>\n",
              "      <td>13</td>\n",
              "      <td>2023-04-02</td>\n",
              "      <td>68</td>\n",
              "      <td>16.0</td>\n",
              "      <td>18.0</td>\n",
              "      <td>35.0</td>\n",
              "      <td>28.0</td>\n",
              "      <td>37.0</td>\n",
              "      <td>32.0</td>\n",
              "      <td>21.0</td>\n",
              "      <td>...</td>\n",
              "      <td>32.0</td>\n",
              "      <td>30.0</td>\n",
              "      <td>36.0</td>\n",
              "      <td>20.0</td>\n",
              "      <td>14.0</td>\n",
              "      <td>37.0</td>\n",
              "      <td>37.0</td>\n",
              "      <td>7</td>\n",
              "      <td>2</td>\n",
              "      <td>18.887359</td>\n",
              "    </tr>\n",
              "    <tr>\n",
              "      <th>92</th>\n",
              "      <td>13</td>\n",
              "      <td>2023-04-03</td>\n",
              "      <td>68</td>\n",
              "      <td>24.0</td>\n",
              "      <td>16.0</td>\n",
              "      <td>18.0</td>\n",
              "      <td>35.0</td>\n",
              "      <td>28.0</td>\n",
              "      <td>37.0</td>\n",
              "      <td>32.0</td>\n",
              "      <td>...</td>\n",
              "      <td>22.0</td>\n",
              "      <td>32.0</td>\n",
              "      <td>30.0</td>\n",
              "      <td>36.0</td>\n",
              "      <td>20.0</td>\n",
              "      <td>37.0</td>\n",
              "      <td>37.0</td>\n",
              "      <td>1</td>\n",
              "      <td>3</td>\n",
              "      <td>23.965120</td>\n",
              "    </tr>\n",
              "    <tr>\n",
              "      <th>93</th>\n",
              "      <td>13</td>\n",
              "      <td>2023-04-04</td>\n",
              "      <td>68</td>\n",
              "      <td>31.0</td>\n",
              "      <td>24.0</td>\n",
              "      <td>16.0</td>\n",
              "      <td>18.0</td>\n",
              "      <td>35.0</td>\n",
              "      <td>28.0</td>\n",
              "      <td>37.0</td>\n",
              "      <td>...</td>\n",
              "      <td>15.0</td>\n",
              "      <td>22.0</td>\n",
              "      <td>32.0</td>\n",
              "      <td>30.0</td>\n",
              "      <td>36.0</td>\n",
              "      <td>37.0</td>\n",
              "      <td>37.0</td>\n",
              "      <td>2</td>\n",
              "      <td>4</td>\n",
              "      <td>33.974492</td>\n",
              "    </tr>\n",
              "    <tr>\n",
              "      <th>94</th>\n",
              "      <td>13</td>\n",
              "      <td>2023-04-05</td>\n",
              "      <td>68</td>\n",
              "      <td>32.0</td>\n",
              "      <td>31.0</td>\n",
              "      <td>24.0</td>\n",
              "      <td>16.0</td>\n",
              "      <td>18.0</td>\n",
              "      <td>35.0</td>\n",
              "      <td>28.0</td>\n",
              "      <td>...</td>\n",
              "      <td>21.0</td>\n",
              "      <td>15.0</td>\n",
              "      <td>22.0</td>\n",
              "      <td>32.0</td>\n",
              "      <td>30.0</td>\n",
              "      <td>35.0</td>\n",
              "      <td>37.0</td>\n",
              "      <td>3</td>\n",
              "      <td>5</td>\n",
              "      <td>33.842866</td>\n",
              "    </tr>\n",
              "  </tbody>\n",
              "</table>\n",
              "<p>5 rows × 23 columns</p>\n",
              "</div>"
            ],
            "text/plain": [
              "    PULocation       Date  DOLocation  Demand  Previous_day_demand  \\\n",
              "90          13 2023-04-01          68    18.0                 35.0   \n",
              "91          13 2023-04-02          68    16.0                 18.0   \n",
              "92          13 2023-04-03          68    24.0                 16.0   \n",
              "93          13 2023-04-04          68    31.0                 24.0   \n",
              "94          13 2023-04-05          68    32.0                 31.0   \n",
              "\n",
              "    Previous_2day_demand  Previous_3day_demand  Previous_4day_demand  \\\n",
              "90                  28.0                  37.0                  32.0   \n",
              "91                  35.0                  28.0                  37.0   \n",
              "92                  18.0                  35.0                  28.0   \n",
              "93                  16.0                  18.0                  35.0   \n",
              "94                  24.0                  16.0                  18.0   \n",
              "\n",
              "    Previous_5day_demand  Previous_6day_demand  ...  Previous_10day_demand  \\\n",
              "90                  21.0                  21.0  ...                   30.0   \n",
              "91                  32.0                  21.0  ...                   32.0   \n",
              "92                  37.0                  32.0  ...                   22.0   \n",
              "93                  28.0                  37.0  ...                   15.0   \n",
              "94                  35.0                  28.0  ...                   21.0   \n",
              "\n",
              "    Previous_11day_demand  Previous_12day_demand  Previous_13day_demand  \\\n",
              "90                   36.0                   20.0                   14.0   \n",
              "91                   30.0                   36.0                   20.0   \n",
              "92                   32.0                   30.0                   36.0   \n",
              "93                   22.0                   32.0                   30.0   \n",
              "94                   15.0                   22.0                   32.0   \n",
              "\n",
              "    Previous_2week_demand  Previous_week_max_demand  \\\n",
              "90                   18.0                      37.0   \n",
              "91                   14.0                      37.0   \n",
              "92                   20.0                      37.0   \n",
              "93                   36.0                      37.0   \n",
              "94                   30.0                      35.0   \n",
              "\n",
              "    Previous_2week_max_demand  Day_of_week  Day_of_month  Ridge_predict  \n",
              "90                       37.0            6             1      22.153462  \n",
              "91                       37.0            7             2      18.887359  \n",
              "92                       37.0            1             3      23.965120  \n",
              "93                       37.0            2             4      33.974492  \n",
              "94                       37.0            3             5      33.842866  \n",
              "\n",
              "[5 rows x 23 columns]"
            ]
          },
          "execution_count": 19,
          "metadata": {},
          "output_type": "execute_result"
        }
      ],
      "source": [
        "print(f'test dataframe shape : {test_df.shape}')\n",
        "test_df.head()"
      ]
    },
    {
      "cell_type": "markdown",
      "metadata": {
        "id": "xf8ChW_7wGmL"
      },
      "source": [
        "# Model Training"
      ]
    },
    {
      "cell_type": "markdown",
      "metadata": {
        "id": "mIhvw9lH92sa"
      },
      "source": [
        "## **Gradient Boosting Regressor**"
      ]
    },
    {
      "cell_type": "markdown",
      "metadata": {
        "id": "13gFIyYfZyxh"
      },
      "source": [
        "### Model Tuning"
      ]
    },
    {
      "cell_type": "code",
      "execution_count": 20,
      "metadata": {},
      "outputs": [],
      "source": [
        "def grid_search(model_class, param_grid, train_df, val_df, feature_list):\n",
        "    best_params = None\n",
        "    best_val_loss = float('inf')\n",
        "\n",
        "    for params in product(*param_grid.values()):\n",
        "        current_params = dict(zip(param_grid.keys(), params))\n",
        "        current_model = model_class(**current_params)\n",
        "        current_model.fit(train_df[feature_list], train_df['Demand'])\n",
        "        \n",
        "        y_val_pred = current_model.predict(val_df[feature_list])\n",
        "        val_loss = mean_squared_error(val_df['Demand'], y_val_pred)\n",
        "        \n",
        "        if val_loss < best_val_loss:\n",
        "            best_val_loss = val_loss\n",
        "            best_params = current_params\n",
        "    \n",
        "    return best_params, best_val_loss"
      ]
    },
    {
      "cell_type": "code",
      "execution_count": 21,
      "metadata": {},
      "outputs": [],
      "source": [
        "if AUTO_TUNE:\n",
        "    params_test = {'learning_rate':[0.05, 0.1], \n",
        "                'subsample':[0.8, 0.9], \n",
        "                'colsample_bytree':[0.7, 0.8, 0.9], \n",
        "                'max_depth':[7, 8, 9, 10], \n",
        "                'min_child_weight':[10, 20],\n",
        "                'n_estimators':[80, 90, 100]\n",
        "                }\n",
        "\n",
        "    best_params, best_score = grid_search(\n",
        "        model_class = xgb.XGBRegressor, \n",
        "        param_grid = params_test,\n",
        "        train_df = grid_search_train_df, \n",
        "        val_df = valid_df,\n",
        "        feature_list = FEATURE_LIST, \n",
        "        )\n",
        "    \n",
        "    print(best_params, best_score)\n",
        "else:\n",
        "    best_params = { \n",
        "        'learning_rate': 0.05, \n",
        "        'subsample': 0.8,\n",
        "        'colsample_bytree': 0.8,\n",
        "        'max_depth': 10, \n",
        "        'min_child_weight': 20, \n",
        "        'n_estimators': 80\n",
        "        }"
      ]
    },
    {
      "cell_type": "markdown",
      "metadata": {
        "id": "H0IHB8t41NB6"
      },
      "source": [
        "### Prediction"
      ]
    },
    {
      "cell_type": "code",
      "execution_count": 22,
      "metadata": {},
      "outputs": [],
      "source": [
        "def model_predict(model, train_data, test_data, feature_list):\n",
        "\n",
        "    model.fit(train_data[feature_list], train_data['Demand'])\n",
        "    train_predict_df = model.predict(train_data[feature_list])\n",
        "    test_predict_df = model.predict(test_data[feature_list])\n",
        "\n",
        "    return train_predict_df, test_predict_df"
      ]
    },
    {
      "cell_type": "code",
      "execution_count": 23,
      "metadata": {
        "id": "5AdQtdSqN7m9"
      },
      "outputs": [],
      "source": [
        "model = xgb.XGBRegressor(**best_params)\n",
        "train_prediction_df, test_prediction_df = model_predict(model, train_df, test_df, FEATURE_LIST)"
      ]
    },
    {
      "cell_type": "markdown",
      "metadata": {
        "id": "J0EYl9KtTfo7"
      },
      "source": [
        "### Visualization"
      ]
    },
    {
      "cell_type": "code",
      "execution_count": 24,
      "metadata": {
        "id": "ao6nw8xsRvB9"
      },
      "outputs": [],
      "source": [
        "def prediction_visualization(train_data, test_data, train_prediction_df, test_prediction_df):\n",
        "\n",
        "    train_data['Day_of_year'] = train_data['Date'].dt.dayofyear\n",
        "    test_data['Day_of_year'] = test_data['Date'].dt.dayofyear\n",
        "\n",
        "    predicted_train_df = train_data\n",
        "    predicted_test_df = test_data\n",
        "    predicted_train_df['Predicted'] = train_prediction_df\n",
        "    predicted_test_df['Predicted'] = test_prediction_df\n",
        "\n",
        "    train_data = train_data.groupby('Day_of_year')['Demand'].sum()\n",
        "    test_data = test_data.groupby('Day_of_year')['Demand'].sum()\n",
        "    predicted_train_df = predicted_train_df.groupby('Day_of_year')['Predicted'].sum()\n",
        "    predicted_test_df = predicted_test_df.groupby('Day_of_year')['Predicted'].sum()\n",
        "\n",
        "    plt.title('Train')\n",
        "    plt.plot(train_data)\n",
        "    plt.plot(predicted_train_df)\n",
        "    plt.legend([\"Real Value\", \"Predicted\"], loc =\"lower right\")\n",
        "    plt.show()\n",
        "\n",
        "    plot_length = len(test_data)\n",
        "    plt.title('Test')\n",
        "    plt.plot(test_data)\n",
        "    plt.plot(predicted_test_df)\n",
        "    plt.legend([\"Real Value\", \"Predicted\"], loc =\"lower right\")\n",
        "    plt.show()"
      ]
    },
    {
      "cell_type": "code",
      "execution_count": 25,
      "metadata": {
        "id": "deyLWLmZThMJ",
        "outputId": "4d0094aa-099c-490f-aa82-281ee16bae01"
      },
      "outputs": [
        {
          "name": "stderr",
          "output_type": "stream",
          "text": [
            "C:\\Users\\NPC\\AppData\\Local\\Temp\\ipykernel_13720\\242743045.py:3: SettingWithCopyWarning: \n",
            "A value is trying to be set on a copy of a slice from a DataFrame.\n",
            "Try using .loc[row_indexer,col_indexer] = value instead\n",
            "\n",
            "See the caveats in the documentation: https://pandas.pydata.org/pandas-docs/stable/user_guide/indexing.html#returning-a-view-versus-a-copy\n",
            "  train_data['Day_of_year'] = train_data['Date'].dt.dayofyear\n",
            "C:\\Users\\NPC\\AppData\\Local\\Temp\\ipykernel_13720\\242743045.py:4: SettingWithCopyWarning: \n",
            "A value is trying to be set on a copy of a slice from a DataFrame.\n",
            "Try using .loc[row_indexer,col_indexer] = value instead\n",
            "\n",
            "See the caveats in the documentation: https://pandas.pydata.org/pandas-docs/stable/user_guide/indexing.html#returning-a-view-versus-a-copy\n",
            "  test_data['Day_of_year'] = test_data['Date'].dt.dayofyear\n",
            "C:\\Users\\NPC\\AppData\\Local\\Temp\\ipykernel_13720\\242743045.py:8: SettingWithCopyWarning: \n",
            "A value is trying to be set on a copy of a slice from a DataFrame.\n",
            "Try using .loc[row_indexer,col_indexer] = value instead\n",
            "\n",
            "See the caveats in the documentation: https://pandas.pydata.org/pandas-docs/stable/user_guide/indexing.html#returning-a-view-versus-a-copy\n",
            "  predicted_train_df['Predicted'] = train_prediction_df\n",
            "C:\\Users\\NPC\\AppData\\Local\\Temp\\ipykernel_13720\\242743045.py:9: SettingWithCopyWarning: \n",
            "A value is trying to be set on a copy of a slice from a DataFrame.\n",
            "Try using .loc[row_indexer,col_indexer] = value instead\n",
            "\n",
            "See the caveats in the documentation: https://pandas.pydata.org/pandas-docs/stable/user_guide/indexing.html#returning-a-view-versus-a-copy\n",
            "  predicted_test_df['Predicted'] = test_prediction_df\n"
          ]
        },
        {
          "data": {
            "image/png": "[encoded data removed]",
            "text/plain": [
              "<Figure size 432x288 with 1 Axes>"
            ]
          },
          "metadata": {
            "needs_background": "light"
          },
          "output_type": "display_data"
        },
        {
          "data": {
            "image/png": "[encoded data removed]",
            "text/plain": [
              "<Figure size 432x288 with 1 Axes>"
            ]
          },
          "metadata": {
            "needs_background": "light"
          },
          "output_type": "display_data"
        }
      ],
      "source": [
        "prediction_visualization(train_df, test_df, train_prediction_df, test_prediction_df)"
      ]
    },
    {
      "cell_type": "markdown",
      "metadata": {
        "id": "lERphf0kTist"
      },
      "source": [
        "### Evaluation"
      ]
    },
    {
      "cell_type": "code",
      "execution_count": 26,
      "metadata": {
        "id": "BcGvcilUWEEC"
      },
      "outputs": [],
      "source": [
        "def evaluate(metric, metric_name, true_values, predicted_values):\n",
        "    print(f'{metric_name} : {metric(true_values, predicted_values)}')"
      ]
    },
    {
      "cell_type": "code",
      "execution_count": 27,
      "metadata": {
        "id": "v4-GWghuSbnA"
      },
      "outputs": [],
      "source": [
        "def evaluation(model_name, train_df, test_df, train_prediction_df, test_prediction_df):\n",
        "    print(f'{model_name} train scores:')\n",
        "\n",
        "    evaluate(mean_absolute_error, 'MAE', train_df['Demand'], train_prediction_df)\n",
        "    evaluate(mean_squared_error, 'MSE', train_df['Demand'], train_prediction_df)\n",
        "    evaluate(mean_absolute_percentage_error, 'MAPE', train_df['Demand'], train_prediction_df)\n",
        "\n",
        "    print(f'\\n{model_name} test scores:')\n",
        "\n",
        "    evaluate(mean_absolute_error, 'MAE', test_df['Demand'], test_prediction_df)\n",
        "    evaluate(mean_squared_error, 'MSE', test_df['Demand'], test_prediction_df)\n",
        "    evaluate(mean_absolute_percentage_error, 'MAPE', test_df['Demand'], test_prediction_df)"
      ]
    },
    {
      "cell_type": "code",
      "execution_count": 28,
      "metadata": {
        "id": "qSZwIFprTkqK",
        "outputId": "7ae94952-ec22-410a-9d26-6e05a96af6ab"
      },
      "outputs": [
        {
          "name": "stdout",
          "output_type": "stream",
          "text": [
            "XGB train scores:\n",
            "MAE : 7.028209352643727\n",
            "MSE : 104.36012474920803\n",
            "MAPE : 0.16230070960037013\n",
            "\n",
            "XGB test scores:\n",
            "MAE : 8.313337142551763\n",
            "MSE : 174.29775555293662\n",
            "MAPE : 0.17679231997819403\n"
          ]
        }
      ],
      "source": [
        "evaluation('XGB', train_df, test_df, train_prediction_df, test_prediction_df)"
      ]
    },
    {
      "cell_type": "markdown",
      "metadata": {
        "id": "_286hlGi7VWD"
      },
      "source": [
        "### Feature Importance and SHAPE"
      ]
    },
    {
      "cell_type": "code",
      "execution_count": 29,
      "metadata": {
        "id": "osueYsNP1NB8",
        "outputId": "b3c13ee6-bd74-4470-a8c5-558df5416e28"
      },
      "outputs": [
        {
          "data": {
            "image/png": "[encoded data removed]",
            "text/plain": [
              "<Figure size 432x288 with 1 Axes>"
            ]
          },
          "metadata": {
            "needs_background": "light"
          },
          "output_type": "display_data"
        }
      ],
      "source": [
        "xgb.plot_importance(model)\n",
        "plt.show()"
      ]
    },
    {
      "cell_type": "code",
      "execution_count": 25,
      "metadata": {
        "id": "50CEqbp75Y_i",
        "outputId": "b7288f1d-517a-4707-da22-ad996453f161"
      },
      "outputs": [
        {
          "data": {
            "text/plain": [
              "\"dtrain_reg = xgb.DMatrix(train_df[FEATURE_LIST].values, train_df['Demand'].values, enable_categorical=True)\\n\\nexplainer = shap.TreeExplainer(model)\\nshap_values = explainer.shap_values(dtrain_reg)\\nshap.summary_plot(shap_values, train_df[FEATURE_LIST])\""
            ]
          },
          "execution_count": 25,
          "metadata": {},
          "output_type": "execute_result"
        }
      ],
      "source": [
        "'''dtrain_reg = xgb.DMatrix(train_df[FEATURE_LIST].values, train_df['Demand'].values, enable_categorical=True)\n",
        "\n",
        "explainer = shap.TreeExplainer(model)\n",
        "shap_values = explainer.shap_values(dtrain_reg)\n",
        "shap.summary_plot(shap_values, train_df[FEATURE_LIST])'''"
      ]
    },
    {
      "cell_type": "markdown",
      "metadata": {},
      "source": [
        "# File Saving"
      ]
    },
    {
      "cell_type": "code",
      "execution_count": 30,
      "metadata": {},
      "outputs": [],
      "source": [
        "def save_predictions(dataset, path):\n",
        "    dataset.to_parquet(path, index=False)"
      ]
    },
    {
      "cell_type": "code",
      "execution_count": 31,
      "metadata": {},
      "outputs": [],
      "source": [
        "def prediction_labeling(pred_df, labeled_df):\n",
        "    pred_df = pd.DataFrame(pred_df, columns = ['Predicted_demand'])\n",
        "    labeled_df.reset_index(inplace = True)\n",
        "    labeled_prediction_df = labeled_df[['PULocation', 'Date', 'DOLocation']]\n",
        "    labeled_prediction_df['Predicted_demand'] = pred_df\n",
        "    return labeled_prediction_df"
      ]
    },
    {
      "cell_type": "code",
      "execution_count": 32,
      "metadata": {},
      "outputs": [
        {
          "name": "stderr",
          "output_type": "stream",
          "text": [
            "C:\\Users\\NPC\\AppData\\Local\\Temp\\ipykernel_13720\\3058505207.py:5: SettingWithCopyWarning: \n",
            "A value is trying to be set on a copy of a slice from a DataFrame.\n",
            "Try using .loc[row_indexer,col_indexer] = value instead\n",
            "\n",
            "See the caveats in the documentation: https://pandas.pydata.org/pandas-docs/stable/user_guide/indexing.html#returning-a-view-versus-a-copy\n",
            "  labeled_prediction_df['Predicted_demand'] = pred_df\n"
          ]
        }
      ],
      "source": [
        "labeled_prediction_df = prediction_labeling(test_prediction_df, test_df)"
      ]
    },
    {
      "cell_type": "code",
      "execution_count": 33,
      "metadata": {},
      "outputs": [
        {
          "name": "stdout",
          "output_type": "stream",
          "text": [
            "labeled prediction dataframe shape : (43290, 4)\n"
          ]
        },
        {
          "data": {
            "text/html": [
              "<div>\n",
              "<style scoped>\n",
              "    .dataframe tbody tr th:only-of-type {\n",
              "        vertical-align: middle;\n",
              "    }\n",
              "\n",
              "    .dataframe tbody tr th {\n",
              "        vertical-align: top;\n",
              "    }\n",
              "\n",
              "    .dataframe thead th {\n",
              "        text-align: right;\n",
              "    }\n",
              "</style>\n",
              "<table border=\"1\" class=\"dataframe\">\n",
              "  <thead>\n",
              "    <tr style=\"text-align: right;\">\n",
              "      <th></th>\n",
              "      <th>PULocation</th>\n",
              "      <th>Date</th>\n",
              "      <th>DOLocation</th>\n",
              "      <th>Predicted_demand</th>\n",
              "    </tr>\n",
              "  </thead>\n",
              "  <tbody>\n",
              "    <tr>\n",
              "      <th>0</th>\n",
              "      <td>13</td>\n",
              "      <td>2023-04-01</td>\n",
              "      <td>68</td>\n",
              "      <td>21.043465</td>\n",
              "    </tr>\n",
              "    <tr>\n",
              "      <th>1</th>\n",
              "      <td>13</td>\n",
              "      <td>2023-04-02</td>\n",
              "      <td>68</td>\n",
              "      <td>17.703024</td>\n",
              "    </tr>\n",
              "    <tr>\n",
              "      <th>2</th>\n",
              "      <td>13</td>\n",
              "      <td>2023-04-03</td>\n",
              "      <td>68</td>\n",
              "      <td>24.283808</td>\n",
              "    </tr>\n",
              "    <tr>\n",
              "      <th>3</th>\n",
              "      <td>13</td>\n",
              "      <td>2023-04-04</td>\n",
              "      <td>68</td>\n",
              "      <td>29.548220</td>\n",
              "    </tr>\n",
              "    <tr>\n",
              "      <th>4</th>\n",
              "      <td>13</td>\n",
              "      <td>2023-04-05</td>\n",
              "      <td>68</td>\n",
              "      <td>30.430885</td>\n",
              "    </tr>\n",
              "  </tbody>\n",
              "</table>\n",
              "</div>"
            ],
            "text/plain": [
              "   PULocation       Date  DOLocation  Predicted_demand\n",
              "0          13 2023-04-01          68         21.043465\n",
              "1          13 2023-04-02          68         17.703024\n",
              "2          13 2023-04-03          68         24.283808\n",
              "3          13 2023-04-04          68         29.548220\n",
              "4          13 2023-04-05          68         30.430885"
            ]
          },
          "execution_count": 33,
          "metadata": {},
          "output_type": "execute_result"
        }
      ],
      "source": [
        "print(f'labeled prediction dataframe shape : {labeled_prediction_df.shape}')\n",
        "labeled_prediction_df.head()"
      ]
    },
    {
      "cell_type": "code",
      "execution_count": 34,
      "metadata": {},
      "outputs": [],
      "source": [
        "save_predictions(labeled_prediction_df, OUTPUT_PATH)"
      ]
    }
  ],
  "metadata": {
    "colab": {
      "collapsed_sections": [
        "X2ES_CY6-fb5"
      ],
      "provenance": [],
      "toc_visible": true
    },
    "kernelspec": {
      "display_name": "Python 3",
      "name": "python3"
    },
    "language_info": {
      "codemirror_mode": {
        "name": "ipython",
        "version": 3
      },
      "file_extension": ".py",
      "mimetype": "text/x-python",
      "name": "python",
      "nbconvert_exporter": "python",
      "pygments_lexer": "ipython3",
      "version": "3.10.4"
    }
  },
  "nbformat": 4,
  "nbformat_minor": 0
}
